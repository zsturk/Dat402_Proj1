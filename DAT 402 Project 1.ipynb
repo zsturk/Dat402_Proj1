{
  "cells": [
    {
      "cell_type": "markdown",
      "source": [
        "#Project 1: Modeling"
      ],
      "metadata": {
        "id": "M3rplayUHG6L"
      },
      "id": "M3rplayUHG6L"
    },
    {
      "cell_type": "code",
      "execution_count": 3,
      "id": "86a3cd77-bf25-40ba-9b42-ce8574ebd0dd",
      "metadata": {
        "id": "86a3cd77-bf25-40ba-9b42-ce8574ebd0dd"
      },
      "outputs": [],
      "source": [
        "#importing packages\n",
        "import pandas as pd\n",
        "import seaborn as sns\n",
        "#numpy necessary?\n",
        "#also need to import scikit ML packages for step 6 onwards, and maybe for preprocessing too\n",
        "\n",
        "url = \"https://raw.githubusercontent.com/zsturk/Dat402_Proj1/refs/heads/Step-1/ObesityDataSet_raw_and_data_sinthetic.csv\"\n",
        "df = pd.read_csv(url, sep = \",\")"
      ]
    },
    {
      "cell_type": "markdown",
      "source": [
        "Describe dataset here and describe our goal in modeling, etc"
      ],
      "metadata": {
        "id": "Wo9JZB3UL2p7"
      },
      "id": "Wo9JZB3UL2p7"
    },
    {
      "cell_type": "markdown",
      "source": [
        "##Cleaning data"
      ],
      "metadata": {
        "id": "19gUWxnrG8KS"
      },
      "id": "19gUWxnrG8KS"
    },
    {
      "cell_type": "code",
      "source": [
        "#data cleaning and wrangling etc"
      ],
      "metadata": {
        "id": "iHdyN-0UJsck"
      },
      "id": "iHdyN-0UJsck",
      "execution_count": null,
      "outputs": []
    },
    {
      "cell_type": "markdown",
      "source": [
        "##Exploratory Data Analysis"
      ],
      "metadata": {
        "id": "B_XdaqfYJ7gS"
      },
      "id": "B_XdaqfYJ7gS"
    },
    {
      "cell_type": "code",
      "source": [
        "#some stuff"
      ],
      "metadata": {
        "id": "OAGLJneqJ356"
      },
      "id": "OAGLJneqJ356",
      "execution_count": null,
      "outputs": []
    },
    {
      "cell_type": "code",
      "source": [
        "#other stuff"
      ],
      "metadata": {
        "id": "dwLUTumdLA-i"
      },
      "id": "dwLUTumdLA-i",
      "execution_count": null,
      "outputs": []
    },
    {
      "cell_type": "markdown",
      "source": [
        "##Splitting the dataset, scaling etc"
      ],
      "metadata": {
        "id": "cPNaOUQvKAP0"
      },
      "id": "cPNaOUQvKAP0"
    },
    {
      "cell_type": "code",
      "source": [
        "#stuff"
      ],
      "metadata": {
        "id": "cZTbZ2qjMfq8"
      },
      "id": "cZTbZ2qjMfq8",
      "execution_count": null,
      "outputs": []
    },
    {
      "cell_type": "code",
      "source": [
        "#probably more stuff"
      ],
      "metadata": {
        "id": "LveuVg2sMnF1"
      },
      "id": "LveuVg2sMnF1",
      "execution_count": null,
      "outputs": []
    },
    {
      "cell_type": "markdown",
      "source": [
        "##Model 1: abc"
      ],
      "metadata": {
        "id": "4ccjk_ftMqsl"
      },
      "id": "4ccjk_ftMqsl"
    },
    {
      "cell_type": "code",
      "source": [
        "#modeling...\n",
        "#prediction"
      ],
      "metadata": {
        "id": "V9u8gCWxMtBH"
      },
      "id": "V9u8gCWxMtBH",
      "execution_count": null,
      "outputs": []
    },
    {
      "cell_type": "markdown",
      "source": [
        "##Model 2: xyz"
      ],
      "metadata": {
        "id": "8AX_APQ_Mvfn"
      },
      "id": "8AX_APQ_Mvfn"
    },
    {
      "cell_type": "code",
      "source": [
        "#modeling...\n",
        "#prediction"
      ],
      "metadata": {
        "id": "zZ8WZZLFMxoZ"
      },
      "id": "zZ8WZZLFMxoZ",
      "execution_count": null,
      "outputs": []
    },
    {
      "cell_type": "markdown",
      "source": [
        "##Conclusion"
      ],
      "metadata": {
        "id": "JMuj1bmlM53F"
      },
      "id": "JMuj1bmlM53F"
    }
  ],
  "metadata": {
    "kernelspec": {
      "display_name": "Python [conda env:base] *",
      "language": "python",
      "name": "conda-base-py"
    },
    "language_info": {
      "codemirror_mode": {
        "name": "ipython",
        "version": 3
      },
      "file_extension": ".py",
      "mimetype": "text/x-python",
      "name": "python",
      "nbconvert_exporter": "python",
      "pygments_lexer": "ipython3",
      "version": "3.11.5"
    },
    "colab": {
      "provenance": []
    }
  },
  "nbformat": 4,
  "nbformat_minor": 5
}