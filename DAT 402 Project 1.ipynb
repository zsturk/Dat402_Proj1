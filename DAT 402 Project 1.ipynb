{
  "cells": [
    {
      "cell_type": "markdown",
      "source": [
        "#Title"
      ],
      "metadata": {
        "id": "M3rplayUHG6L"
      },
      "id": "M3rplayUHG6L"
    },
    {
      "cell_type": "code",
      "execution_count": null,
      "id": "86a3cd77-bf25-40ba-9b42-ce8574ebd0dd",
      "metadata": {
        "id": "86a3cd77-bf25-40ba-9b42-ce8574ebd0dd"
      },
      "outputs": [],
      "source": [
        "#importing packages\n",
        "import pandas as pd\n",
        "import seaborn as sns\n",
        "#numpy?"
      ]
    },
    {
      "cell_type": "markdown",
      "source": [
        "##Cleaning data"
      ],
      "metadata": {
        "id": "19gUWxnrG8KS"
      },
      "id": "19gUWxnrG8KS"
    }
  ],
  "metadata": {
    "kernelspec": {
      "display_name": "Python [conda env:base] *",
      "language": "python",
      "name": "conda-base-py"
    },
    "language_info": {
      "codemirror_mode": {
        "name": "ipython",
        "version": 3
      },
      "file_extension": ".py",
      "mimetype": "text/x-python",
      "name": "python",
      "nbconvert_exporter": "python",
      "pygments_lexer": "ipython3",
      "version": "3.11.5"
    },
    "colab": {
      "provenance": []
    }
  },
  "nbformat": 4,
  "nbformat_minor": 5
}